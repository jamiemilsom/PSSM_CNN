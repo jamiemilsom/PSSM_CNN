{
 "cells": [
  {
   "cell_type": "code",
   "execution_count": 2,
   "metadata": {},
   "outputs": [],
   "source": [
    "import numpy as np\n",
    "import pandas as pd\n",
    "from IPython import display\n",
    "import os\n",
    "import matplotlib.pyplot as plt\n",
    "import seaborn as sns\n",
    "import torch\n",
    "from torch.utils.data import Dataset, DataLoader, random_split"
   ]
  },
  {
   "cell_type": "markdown",
   "metadata": {},
   "source": [
    "Checking if cuda is available - Highly reccomended to run this code on a cuda enabled GPU"
   ]
  },
  {
   "cell_type": "code",
   "execution_count": 3,
   "metadata": {},
   "outputs": [
    {
     "name": "stdout",
     "output_type": "stream",
     "text": [
      "Cuda is available: False\n",
      "Running on device: cpu\n"
     ]
    }
   ],
   "source": [
    "print('Cuda is available:',torch.cuda.is_available())\n",
    "\n",
    "if torch.cuda.is_available():\n",
    "    device = torch.device(\"cuda\")\n",
    "    print('Running on device:',torch.cuda.get_device_name(0))\n",
    "else:\n",
    "    device = torch.device(\"cpu\")\n",
    "    print('Running on device:',device)"
   ]
  },
  {
   "cell_type": "markdown",
   "metadata": {},
   "source": [
    "# Investigating the Training Data\n",
    "\n",
    "This section explores the key features of our training data for protein secondary structure prediction, but first let's establish some foundational terminology and theory relevant to this task.\n",
    "\n",
    "**Position-Specific Scoring Matrix (PSSM)**\n",
    "\n",
    "* This matrix captures the likelihood of observing each amino acid at specific positions within a protein sequence. It's derived from analyzing multiple sequence alignments. \n",
    "* In our dataset, the PSSM probabilities are already preprocessed for training, ranging from 0 (no likelihood) to 1 (absolute likelihood).\n",
    "* In our dataset for each position the primary structure can be one of 20 different amino acids represented by letters.\n"
   ]
  },
  {
   "cell_type": "code",
   "execution_count": 4,
   "metadata": {},
   "outputs": [
    {
     "data": {
      "text/html": [
       "<div>\n",
       "<style scoped>\n",
       "    .dataframe tbody tr th:only-of-type {\n",
       "        vertical-align: middle;\n",
       "    }\n",
       "\n",
       "    .dataframe tbody tr th {\n",
       "        vertical-align: top;\n",
       "    }\n",
       "\n",
       "    .dataframe thead th {\n",
       "        text-align: right;\n",
       "    }\n",
       "</style>\n",
       "<table border=\"1\" class=\"dataframe\">\n",
       "  <thead>\n",
       "    <tr style=\"text-align: right;\">\n",
       "      <th></th>\n",
       "      <th>RES_NUM</th>\n",
       "      <th>AMINO_ACID</th>\n",
       "      <th>A</th>\n",
       "      <th>C</th>\n",
       "      <th>D</th>\n",
       "      <th>E</th>\n",
       "      <th>F</th>\n",
       "      <th>G</th>\n",
       "      <th>H</th>\n",
       "      <th>I</th>\n",
       "      <th>...</th>\n",
       "      <th>M</th>\n",
       "      <th>N</th>\n",
       "      <th>P</th>\n",
       "      <th>Q</th>\n",
       "      <th>R</th>\n",
       "      <th>S</th>\n",
       "      <th>T</th>\n",
       "      <th>V</th>\n",
       "      <th>W</th>\n",
       "      <th>Y</th>\n",
       "    </tr>\n",
       "  </thead>\n",
       "  <tbody>\n",
       "    <tr>\n",
       "      <th>0</th>\n",
       "      <td>1</td>\n",
       "      <td>S</td>\n",
       "      <td>0.000000</td>\n",
       "      <td>0.0</td>\n",
       "      <td>0.00000</td>\n",
       "      <td>0.000000</td>\n",
       "      <td>0.000000</td>\n",
       "      <td>0.000000</td>\n",
       "      <td>0.0</td>\n",
       "      <td>0.000000</td>\n",
       "      <td>...</td>\n",
       "      <td>0.000000</td>\n",
       "      <td>0.000000</td>\n",
       "      <td>0.0</td>\n",
       "      <td>0.000000</td>\n",
       "      <td>0.0</td>\n",
       "      <td>1.000000</td>\n",
       "      <td>0.000000</td>\n",
       "      <td>0.000000</td>\n",
       "      <td>0.000000</td>\n",
       "      <td>0.000000</td>\n",
       "    </tr>\n",
       "    <tr>\n",
       "      <th>1</th>\n",
       "      <td>2</td>\n",
       "      <td>G</td>\n",
       "      <td>0.421277</td>\n",
       "      <td>0.0</td>\n",
       "      <td>0.00000</td>\n",
       "      <td>0.000000</td>\n",
       "      <td>0.000000</td>\n",
       "      <td>0.578723</td>\n",
       "      <td>0.0</td>\n",
       "      <td>0.000000</td>\n",
       "      <td>...</td>\n",
       "      <td>0.000000</td>\n",
       "      <td>0.000000</td>\n",
       "      <td>0.0</td>\n",
       "      <td>0.000000</td>\n",
       "      <td>0.0</td>\n",
       "      <td>0.000000</td>\n",
       "      <td>0.000000</td>\n",
       "      <td>0.000000</td>\n",
       "      <td>0.000000</td>\n",
       "      <td>0.000000</td>\n",
       "    </tr>\n",
       "    <tr>\n",
       "      <th>2</th>\n",
       "      <td>3</td>\n",
       "      <td>F</td>\n",
       "      <td>0.000000</td>\n",
       "      <td>0.0</td>\n",
       "      <td>0.00000</td>\n",
       "      <td>0.000000</td>\n",
       "      <td>0.305865</td>\n",
       "      <td>0.000000</td>\n",
       "      <td>0.0</td>\n",
       "      <td>0.087602</td>\n",
       "      <td>...</td>\n",
       "      <td>0.000000</td>\n",
       "      <td>0.000000</td>\n",
       "      <td>0.0</td>\n",
       "      <td>0.000000</td>\n",
       "      <td>0.0</td>\n",
       "      <td>0.000000</td>\n",
       "      <td>0.000000</td>\n",
       "      <td>0.316258</td>\n",
       "      <td>0.123237</td>\n",
       "      <td>0.000000</td>\n",
       "    </tr>\n",
       "    <tr>\n",
       "      <th>3</th>\n",
       "      <td>4</td>\n",
       "      <td>E</td>\n",
       "      <td>0.018557</td>\n",
       "      <td>0.0</td>\n",
       "      <td>0.30378</td>\n",
       "      <td>0.319588</td>\n",
       "      <td>0.000000</td>\n",
       "      <td>0.000000</td>\n",
       "      <td>0.0</td>\n",
       "      <td>0.000000</td>\n",
       "      <td>...</td>\n",
       "      <td>0.000000</td>\n",
       "      <td>0.062543</td>\n",
       "      <td>0.0</td>\n",
       "      <td>0.017182</td>\n",
       "      <td>0.0</td>\n",
       "      <td>0.109966</td>\n",
       "      <td>0.091409</td>\n",
       "      <td>0.050172</td>\n",
       "      <td>0.000000</td>\n",
       "      <td>0.000000</td>\n",
       "    </tr>\n",
       "    <tr>\n",
       "      <th>4</th>\n",
       "      <td>5</td>\n",
       "      <td>F</td>\n",
       "      <td>0.000000</td>\n",
       "      <td>0.0</td>\n",
       "      <td>0.00000</td>\n",
       "      <td>0.000000</td>\n",
       "      <td>0.749662</td>\n",
       "      <td>0.000000</td>\n",
       "      <td>0.0</td>\n",
       "      <td>0.000000</td>\n",
       "      <td>...</td>\n",
       "      <td>0.009472</td>\n",
       "      <td>0.000000</td>\n",
       "      <td>0.0</td>\n",
       "      <td>0.000000</td>\n",
       "      <td>0.0</td>\n",
       "      <td>0.000000</td>\n",
       "      <td>0.000000</td>\n",
       "      <td>0.098106</td>\n",
       "      <td>0.006089</td>\n",
       "      <td>0.090663</td>\n",
       "    </tr>\n",
       "  </tbody>\n",
       "</table>\n",
       "<p>5 rows × 22 columns</p>\n",
       "</div>"
      ],
      "text/plain": [
       "   RES_NUM AMINO_ACID         A    C        D         E         F         G  \\\n",
       "0        1          S  0.000000  0.0  0.00000  0.000000  0.000000  0.000000   \n",
       "1        2          G  0.421277  0.0  0.00000  0.000000  0.000000  0.578723   \n",
       "2        3          F  0.000000  0.0  0.00000  0.000000  0.305865  0.000000   \n",
       "3        4          E  0.018557  0.0  0.30378  0.319588  0.000000  0.000000   \n",
       "4        5          F  0.000000  0.0  0.00000  0.000000  0.749662  0.000000   \n",
       "\n",
       "     H         I  ...         M         N    P         Q    R         S  \\\n",
       "0  0.0  0.000000  ...  0.000000  0.000000  0.0  0.000000  0.0  1.000000   \n",
       "1  0.0  0.000000  ...  0.000000  0.000000  0.0  0.000000  0.0  0.000000   \n",
       "2  0.0  0.087602  ...  0.000000  0.000000  0.0  0.000000  0.0  0.000000   \n",
       "3  0.0  0.000000  ...  0.000000  0.062543  0.0  0.017182  0.0  0.109966   \n",
       "4  0.0  0.000000  ...  0.009472  0.000000  0.0  0.000000  0.0  0.000000   \n",
       "\n",
       "          T         V         W         Y  \n",
       "0  0.000000  0.000000  0.000000  0.000000  \n",
       "1  0.000000  0.000000  0.000000  0.000000  \n",
       "2  0.000000  0.316258  0.123237  0.000000  \n",
       "3  0.091409  0.050172  0.000000  0.000000  \n",
       "4  0.000000  0.098106  0.006089  0.090663  \n",
       "\n",
       "[5 rows x 22 columns]"
      ]
     },
     "execution_count": 4,
     "metadata": {},
     "output_type": "execute_result"
    }
   ],
   "source": [
    "quick_vis = pd.read_csv('../data/pssm_csv/test/1A0S_1_P_test.csv')\n",
    "quick_vis.head()"
   ]
  },
  {
   "cell_type": "markdown",
   "metadata": {},
   "source": [
    "#### One hot encode or use probabilites from PSSM?\n",
    "In terms of preprocessing for the nueral network, although one hot encoding of the amino acid could be used, I have chosen to use the raw PSSM data. They both have the same dimensionality, however one hot encoded data contains less information about the amino acids. The model may be able to learn from one hot encoding quicker as it simplifies the data from continuous values between 0-1 to binary outputs for each amino acid. however to achieve the highest scores keeping the information may come out on top."
   ]
  },
  {
   "cell_type": "code",
   "execution_count": 5,
   "metadata": {},
   "outputs": [
    {
     "data": {
      "text/plain": [
       "<matplotlib.legend.Legend at 0x7fc38e467d00>"
      ]
     },
     "execution_count": 5,
     "metadata": {},
     "output_type": "execute_result"
    },
    {
     "data": {
      "image/png": "[encoded data removed]",
      "text/plain": [
       "<Figure size 1600x900 with 1 Axes>"
      ]
     },
     "metadata": {},
     "output_type": "display_data"
    }
   ],
   "source": [
    "import pandas as pd\n",
    "def get_sequence_lengths(directory):\n",
    "    df = pd.read_csv(directory, usecols=['SEQUENCE'])\n",
    "    return df['SEQUENCE'].apply(len).values\n",
    "\n",
    "seq_lengths_train = get_sequence_lengths('../data/simplified_seq/seqs_train.csv')\n",
    "seq_lengths_test = get_sequence_lengths('../data/simplified_seq/seqs_test.csv')\n",
    "\n",
    "if len(seq_lengths_train) > len(seq_lengths_test):\n",
    "  padding_length = len(seq_lengths_train) - len(seq_lengths_test)\n",
    "  padding_values = np.full(padding_length, np.nan)\n",
    "  seq_lengths_test = np.concatenate((seq_lengths_test, padding_values))\n",
    "        \n",
    "\n",
    "sequences_df = pd.DataFrame({'Train':seq_lengths_train, 'Test':seq_lengths_test})\n",
    "\n",
    "bins = 30\n",
    "plt.figure(figsize=(16,9))\n",
    "plt.title('Contrasting Distributions of Sequence Lengths Across Train and Test Data')\n",
    "\n",
    "sns.histplot(data =sequences_df['Train'],\n",
    "            bins=bins, \n",
    "            kde=True,\n",
    "            stat='density',\n",
    "            label='Train',\n",
    "            legend=True)\n",
    "\n",
    "sns.histplot(data =sequences_df['Test'],\n",
    "            bins=bins, \n",
    "            kde=True,\n",
    "            stat='density',\n",
    "            label='Test',\n",
    "            legend=True)\n",
    "\n",
    "plt.xlabel('Sequence Length')\n",
    "plt.ylabel('Density')\n",
    "plt.legend()"
   ]
  },
  {
   "cell_type": "code",
   "execution_count": 6,
   "metadata": {},
   "outputs": [
    {
     "name": "stdout",
     "output_type": "stream",
     "text": [
      "Train max sequence length: 1733\n",
      "Test max sequence length: 696.0\n"
     ]
    },
    {
     "data": {
      "image/png": "[encoded data removed]",
      "text/plain": [
       "<Figure size 1600x900 with 1 Axes>"
      ]
     },
     "metadata": {},
     "output_type": "display_data"
    }
   ],
   "source": [
    "plt.figure(figsize=(16,9))\n",
    "plt.title('Contrasting Distributions of Sequence Lengths Across Train and Test Data')\n",
    "\n",
    "sns.boxplot(\n",
    "    data=sequences_df, \n",
    "    orient='h',\n",
    "    legend=True,\n",
    ")\n",
    "print('Train max sequence length:',sequences_df['Train'].max())\n",
    "print('Test max sequence length:',sequences_df['Test'].max())"
   ]
  },
  {
   "cell_type": "markdown",
   "metadata": {},
   "source": [
    "#### Analysing at the sequence length distribution\n",
    "From these visualisations we can observe that the sequence lengths for the training data are often larger than for the test data.\n",
    "\n",
    "As our input shape to our FCN will have to be able to take in a set max sequence length it may be tempting to remove all training data above a certain threshold to reduce the input size; reducing computation and focusing the model on sequences similar length to the test data. Howver this would cause many issues such as:\n",
    "\n",
    "* *Loss of Information*:\n",
    "Long sequences might contain valuable patterns or features that the FCN could learn from. Removing them can limit the model's ability to capture complex relationships in the data.\n",
    "\n",
    "* *Data Imbalance*: The removed sequences could contain more information on a specific second structure leading to a class imbalance problem, where the model struggles to predict a certain class.\n",
    "\n",
    "* *Reduced Generalizability*: The FCN might not generalize well to unseen data beyond this competition if it's not trained on a representative distribution of sequence lengths.\n",
    "\n",
    "#### Using a padding approach to address variable sequence lengths\n",
    "As this study is not exploring the use of more complex methods such as RNNs we will use padding to deal with the differences in sequence length padding all of the data to the maximum sequence length in our data of 1733.\n",
    "We can either pad with 0 meaning no amino acids are present or -1 which could be learnt by the model as data not being present.\n",
    "\n",
    "This will result in a 20 channel (number of different amino acids) by 1733 (max_sequence_length) shape input layer.\n",
    "* i.e shape (N, 20, max_sequence_length) where N is the batch size\n"
   ]
  },
  {
   "cell_type": "markdown",
   "metadata": {},
   "source": [
    "**Protein Secondary Structure**: \n",
    "\n",
    "The secondary structure refers to the local folding patterns formed by a protein's amino acid sequence. It's influenced by a combination of factors:\n",
    "* *Amino Acid Sequence*: The specific sequence of amino acids plays a crucial role in determining the potential secondary structures that can form.\n",
    "* *Local Interactions*: Nearby amino acids interact with each other, influencing how the protein chain folds in localized regions.\n",
    "* *Overall Folding Landscape*: The final 3D structure of the protein, including its secondary structures, is influenced by interactions throughout the entire molecule.\n",
    "* In our data the secondry structure has three posibilites for each position: H = Helix, E = Extended Sheet, C = Coil symbols."
   ]
  },
  {
   "cell_type": "code",
   "execution_count": 7,
   "metadata": {},
   "outputs": [
    {
     "data": {
      "text/html": [
       "<div>\n",
       "<style scoped>\n",
       "    .dataframe tbody tr th:only-of-type {\n",
       "        vertical-align: middle;\n",
       "    }\n",
       "\n",
       "    .dataframe tbody tr th {\n",
       "        vertical-align: top;\n",
       "    }\n",
       "\n",
       "    .dataframe thead th {\n",
       "        text-align: right;\n",
       "    }\n",
       "</style>\n",
       "<table border=\"1\" class=\"dataframe\">\n",
       "  <thead>\n",
       "    <tr style=\"text-align: right;\">\n",
       "      <th></th>\n",
       "      <th>PDB_ID</th>\n",
       "      <th>SEC_STRUCT</th>\n",
       "    </tr>\n",
       "  </thead>\n",
       "  <tbody>\n",
       "    <tr>\n",
       "      <th>0</th>\n",
       "      <td>1VBK_1_A</td>\n",
       "      <td>CCEEEEEECCCCCCCCCCHHHHHHHHHHHHHHHHHHCCCCCCEEEE...</td>\n",
       "    </tr>\n",
       "    <tr>\n",
       "      <th>1</th>\n",
       "      <td>1QGV_1_A</td>\n",
       "      <td>CCCCCCECCCHHHHHHHHHCCCCCEEEEEEECCCCHHHHHHHHHHH...</td>\n",
       "    </tr>\n",
       "    <tr>\n",
       "      <th>2</th>\n",
       "      <td>1KX6_1_A</td>\n",
       "      <td>CCCCCCCCCCCCCCCCCCCCCCHHHHCCC</td>\n",
       "    </tr>\n",
       "    <tr>\n",
       "      <th>3</th>\n",
       "      <td>1V88_1_A</td>\n",
       "      <td>CCCCCCCCCEEEEEEECCCCCCCEEEEEEEECCEEEEECCCCCCCC...</td>\n",
       "    </tr>\n",
       "    <tr>\n",
       "      <th>4</th>\n",
       "      <td>1ZY8_2_K</td>\n",
       "      <td>CCCCCCCCCCCCCCCCCCCCCCCCCCCCCCCCCCCCCCCCCCCCCC...</td>\n",
       "    </tr>\n",
       "  </tbody>\n",
       "</table>\n",
       "</div>"
      ],
      "text/plain": [
       "     PDB_ID                                         SEC_STRUCT\n",
       "0  1VBK_1_A  CCEEEEEECCCCCCCCCCHHHHHHHHHHHHHHHHHHCCCCCCEEEE...\n",
       "1  1QGV_1_A  CCCCCCECCCHHHHHHHHHCCCCCEEEEEEECCCCHHHHHHHHHHH...\n",
       "2  1KX6_1_A                      CCCCCCCCCCCCCCCCCCCCCCHHHHCCC\n",
       "3  1V88_1_A  CCCCCCCCCEEEEEEECCCCCCCEEEEEEEECCEEEEECCCCCCCC...\n",
       "4  1ZY8_2_K  CCCCCCCCCCCCCCCCCCCCCCCCCCCCCCCCCCCCCCCCCCCCCC..."
      ]
     },
     "execution_count": 7,
     "metadata": {},
     "output_type": "execute_result"
    }
   ],
   "source": [
    "quick_vis = pd.read_csv('../data/labels/labels_train.csv')\n",
    "quick_vis.head()"
   ]
  },
  {
   "cell_type": "markdown",
   "metadata": {},
   "source": [
    "#### Encoding the Secondry Structures\n",
    "As the secondry structure is given as characters we need to encode it as the model can only understand numerical data. Using One hot encoding we can both encode and decode second structure data.\n",
    "These functions assume that the output will be as [0 0 0 1], [1 0 0 0] corresponding to each sequence position. You might notice that there are 4 classes here but there are only 3 second structures to predict from. I have added an extra class that means the sequence is over and is mapped to ' '. I have also added max sequence length so that the code could be used for shorter sequences truncating the labels."
   ]
  },
  {
   "cell_type": "code",
   "execution_count": 8,
   "metadata": {},
   "outputs": [
    {
     "name": "stdout",
     "output_type": "stream",
     "text": [
      "Original: HCEC HCCCEC H\n",
      "Encoded: tensor([[1., 0., 0., 0.],\n",
      "        [0., 0., 1., 0.],\n",
      "        [0., 1., 0., 0.],\n",
      "        [0., 0., 1., 0.],\n",
      "        [0., 0., 0., 1.],\n",
      "        [1., 0., 0., 0.],\n",
      "        [0., 0., 1., 0.]])\n",
      "Encoded shape: torch.Size([7, 4])\n",
      "Decoded: HCEC HC\n"
     ]
    }
   ],
   "source": [
    "def one_hot_encode_sequence(sequence, max_sequence_length):\n",
    "    encoding = {'H': [1,0,0,0], 'E': [0,1,0,0], 'C': [0,0,1,0], ' ': [0,0,0,1]}\n",
    "    encoded_sequence = []\n",
    "\n",
    "    if len(sequence) > max_sequence_length:\n",
    "        sequence = sequence[:max_sequence_length]\n",
    "        \n",
    "    for char in sequence:\n",
    "        encoded_sequence.extend(encoding[char])\n",
    "    \n",
    "        \n",
    "    num_blanks = max_sequence_length - len(sequence)\n",
    "    encoded_sequence.extend([0, 0, 0, 1] * num_blanks)\n",
    "    \n",
    "    \n",
    "    \n",
    "    return torch.tensor(encoded_sequence, dtype=torch.float32).reshape(-1,4)\n",
    "\n",
    "\n",
    "def decode_output(encoded_sequence, threshold=0.5):\n",
    "    # the encoded_sequence is a N x 4 x L torch.tensor\n",
    "    \n",
    "    sequence = ''\n",
    "    \n",
    "    for i in range(encoded_sequence.size(1)):  \n",
    "        \n",
    "        if encoded_sequence[0,i,0] >= threshold:\n",
    "            sequence += 'H'\n",
    "        elif encoded_sequence[0, i, 1] >= threshold:\n",
    "            sequence += 'E'\n",
    "        elif encoded_sequence[0, i, 2] >= threshold:\n",
    "            sequence += 'C'\n",
    "        else:\n",
    "            sequence += ' '\n",
    "    return sequence\n",
    "\n",
    "\n",
    "test_string = 'HCEC HCCCEC H'\n",
    "test_encoded = one_hot_encode_sequence(test_string, 7)\n",
    "print('Original:', test_string)\n",
    "print('Encoded:', test_encoded)\n",
    "print('Encoded shape:', test_encoded.shape)\n",
    "test_encoded.unsqueeze_(0)\n",
    "print('Decoded:', decode_output(test_encoded))"
   ]
  },
  {
   "cell_type": "markdown",
   "metadata": {},
   "source": [
    "**Convolutional Neural Networks (CNNs) and Local Interactions**:\n",
    "\n",
    " As CNNs are well-suited to capture local sequence features. By applying convolutional layers, the model can analyze patterns within the PSSM data, aiding in predicting the secondary structure based on these local interactions within the protein sequence.\n",
    " \n",
    " In this study a fully convolutional nueral network (FCN) will be used to predict the secondry structure. We will now create a dataloader for our network given the information we have learnt.\n"
   ]
  },
  {
   "cell_type": "markdown",
   "metadata": {},
   "source": [
    "# Creating a Custom pytorch PSSM DataSet and DataLoaders"
   ]
  },
  {
   "cell_type": "code",
   "execution_count": null,
   "metadata": {},
   "outputs": [],
   "source": [
    "class (Dataset):\n",
    "    \"\"\"Position-Specific Scoring Matrix (PSSM) Dataset\"\"\"\n",
    "\n",
    "    def __init__(self, pssm_root_dir, sec_struct_file_path,tensor_files_dir,max_sequence_length=1733 transform=None):\n",
    "        \"\"\"\n",
    "        Args:\n",
    "            pssm_root_dir (string): Directory with all the protein PSSM data.\n",
    "            sec_struct_root_dir (string): Directory with all the protein secondary structure data. \n",
    "            transform (callable, optional): Optional transform to be applied on a sample. (not used here)           \n",
    "        \"\"\"\n",
    "        self.pssm_root_dir = pssm_root_dir\n",
    "        self.sec_struct_file_path = sec_struct_file_path\n",
    "        self.tensor_files_dir = tensor_files_dir\n",
    "        os.makedirs(self.tensor_files_dir, exist_ok=True)\n",
    "        self.transform = transform \n",
    "        \n",
    "        self.file_list = [file for file in os.listdir(pssm_root_dir) if file.endswith('.csv')]\n",
    "\n",
    "\n",
    "    def preprocess_and_save_tensors(self): # Depending on system requirements may be memory intensive to run\n",
    "        \n",
    "        for file_name in self.file_list:\n",
    "            \n",
    "            pssm_csv_file = os.path.join(self.pssm_root_dir, file_name)\n",
    "            pbd_id = os.path.splitext(file_name)[0]\n",
    "            pbd_id = ''.join(pbd_id)\n",
    "\n",
    "            pssm_tensor_file_path = os.path.join(self.tensor_files_dir, f\"{pbd_id}.pt\")\n",
    "            sec_struct_tensor_file_path = os.path.join(self.tensor_files_dir, f\"{pbd_id}_sec_struct.pt\")\n",
    "      \n",
    "            \n",
    "            if not os.path.exists(pssm_tensor_file_path):\n",
    "                pssm_data = pd.read_csv(pssm_csv_file)\n",
    "                pssm_data = pssm_data.drop(columns=['RES_NUM', 'AMINO_ACID'], axis=1)\n",
    "                \n",
    "                num_zeros = 0\n",
    "                if len(pssm_data) > max_sequence_length:\n",
    "                    pssm_data = pssm_data[:max_sequence_length]\n",
    "                else:               \n",
    "                    num_zeros = max_sequence_length - len(pssm_data)\n",
    "                if num_zeros > 0:\n",
    "                    df_zeros = pd.DataFrame(0, index=range(num_zeros), columns=pssm_data.columns)\n",
    "                    pssm_data = pd.concat([pssm_data, df_zeros], ignore_index=True)\n",
    "                \n",
    "                pssm_data = pssm_data.T.to_numpy()\n",
    "                pssm_data = torch.tensor(pssm_data, dtype=torch.float32)\n",
    "\n",
    "                torch.save(pssm_data, pssm_tensor_file_path)\n",
    "            \n",
    "                \n",
    "            elif self.sec_struct_file_path is not None:\n",
    "                if not os.path.exists(sec_struct_tensor_file_path):\n",
    "\n",
    "                    sec_struct_data = pd.read_csv(self.sec_struct_file_path)\n",
    "                        \n",
    "                    sec_struc_value = sec_struct_data.loc[sec_struct_data['PDB_ID'] == pbd_id, 'SEC_STRUCT'].values[0]\n",
    "                    encoded_sec_struc = one_hot_encode_sequence(sec_struc_value, max_sequence_length)\n",
    "\n",
    "                    torch.save(encoded_sec_struc, sec_struct_tensor_file_path)\n",
    "\n",
    "    def __len__(self):\n",
    "        return len(self.file_list)\n",
    "\n",
    "    def __getitem__(self, idx):\n",
    "        file_name = self.file_list[idx]\n",
    "        pbd_id = os.path.splitext(file_name)[0]\n",
    "        pbd_id = ''.join(pbd_id)\n",
    "        tensor_file_path = os.path.join(self.tensor_files_dir, f\"{pbd_id}.pt\")\n",
    "        pssm_data = torch.load(tensor_file_path)\n",
    "        input = pssm_data\n",
    "\n",
    "        \n",
    "        if self.sec_struct_file_path is not None:\n",
    "\n",
    "            sec_struct_tensor_file_path = os.path.join(self.tensor_files_dir, f\"{pbd_id}_sec_struct.pt\")\n",
    "            encoded_sec_struc = torch.load(sec_struct_tensor_file_path) # form like [[0, 0, 0, 1], [0, 1, 0, 0]...]\n",
    "            target = torch.argmax(encoded_sec_struc,dim=1) # form like [3, 1, ....]\n",
    "            return input, target\n",
    "        \n",
    "        else:\n",
    "            return pbd_id,input"
   ]
  },
  {
   "cell_type": "markdown",
   "metadata": {},
   "source": [
    "#### Create datasets based on the train and test data\n",
    "Preprocess and save tensor files if this has not already been done"
   ]
  },
  {
   "cell_type": "code",
   "execution_count": null,
   "metadata": {},
   "outputs": [],
   "source": [
    "train_val_dataset = PSSM(pssm_root_dir='../data/pssm_csv/train',\n",
    "                      sec_struct_file_path='../data/labels/labels_train.csv',)\n",
    "\n",
    "test_dataset = PSSM(pssm_root_dir='../data/pssm_csv/test',\n",
    "                      sec_struct_file_path=None)\n",
    "\n",
    "test_dataset.preprocess_and_save_tensors()\n",
    "train_val_dataset.preprocess_and_save_tensors()"
   ]
  },
  {
   "cell_type": "markdown",
   "metadata": {},
   "source": [
    "#### Create Dataloaders based on the custom datasets\n",
    "\n",
    "As the train dataset is relatively large I am using a train val split of 70% rather than cross validation"
   ]
  },
  {
   "cell_type": "code",
   "execution_count": null,
   "metadata": {},
   "outputs": [],
   "source": [
    "train_size = int(0.70 * len(train_val_dataset))\n",
    "val_size = len(speedy_dataset) - train_size\n",
    "\n",
    "train_dataset, val_dataset = random_split(speedy_dataset, [train_size, val_size])\n",
    "\n",
    "train_dataloader = DataLoader(train_dataset, batch_size=64, shuffle=True)\n",
    "val_dataloader = DataLoader(val_dataset,batch_size=64, shuffle=False)\n",
    "train_val_dataloader = DataLoader(train_val_dataset, batch_size=64, shuffle=True) # for training the model after hyperparameter tuning\n",
    "\n",
    "test_dataloader = DataLoader(test_dataset, batch_size=64, shuffle=False)"
   ]
  },
  {
   "cell_type": "markdown",
   "metadata": {},
   "source": []
  }
 ],
 "metadata": {
  "kernelspec": {
   "display_name": "Python 3",
   "language": "python",
   "name": "python3"
  },
  "language_info": {
   "codemirror_mode": {
    "name": "ipython",
    "version": 3
   },
   "file_extension": ".py",
   "mimetype": "text/x-python",
   "name": "python",
   "nbconvert_exporter": "python",
   "pygments_lexer": "ipython3",
   "version": "3.10.12"
  }
 },
 "nbformat": 4,
 "nbformat_minor": 2
}
